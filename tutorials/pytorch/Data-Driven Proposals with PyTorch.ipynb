{
 "cells": [
  {
   "cell_type": "markdown",
   "id": "4d49c504",
   "metadata": {},
   "source": [
    "# Tutorial: Data-Driven Proposals with PyTorch"
   ]
  },
  {
   "cell_type": "markdown",
   "id": "b54cf675",
   "metadata": {},
   "source": [
    "This tutorial is a short extension to [Data-Driven Proposals in Gen](../Data-Driven%20Proposals%20in%20Gen.jl), \n",
    "which shows how to use PyTorch for easier specification of the proposal."
   ]
  },
  {
   "cell_type": "markdown",
   "id": "8173414e",
   "metadata": {},
   "source": [
    "For this tutorial, you'll need to ensure that you have PyCall installed, and pointing to a Python that has Torch installed."
   ]
  },
  {
   "cell_type": "code",
   "execution_count": null,
   "id": "35db177a",
   "metadata": {},
   "outputs": [],
   "source": [
    "using Gen, GenPyTorch, PyCall"
   ]
  },
  {
   "cell_type": "markdown",
   "id": "18443099",
   "metadata": {},
   "source": [
    "We recreate the relevant parts of the model from the Data-Driven Proposals in Gen tutorial:"
   ]
  },
  {
   "cell_type": "code",
   "execution_count": 2,
   "id": "04332e61",
   "metadata": {},
   "outputs": [],
   "source": [
    "include(\"../../inverse-planning/geometric_primitives.jl\");\n",
    "include(\"../../inverse-planning/scene.jl\");\n",
    "include(\"../../inverse-planning/viz.jl\")\n",
    "include(\"../../inverse-planning/planning.jl\");\n",
    "\n",
    "scene = Scene(xmin=0, xmax=1, ymin=0, ymax=1)\n",
    "add_obstacle!(scene, make_square(Point(0.30, 0.20), 0.1))\n",
    "add_obstacle!(scene, make_square(Point(0.83, 0.80), 0.1))\n",
    "add_obstacle!(scene, make_square(Point(0.80, 0.40), 0.1))\n",
    "horizontal = false\n",
    "vertical = true\n",
    "wall_thickness = 0.02\n",
    "add_obstacle!(scene, make_line(horizontal, Point(0.20, 0.40), 0.40, wall_thickness))\n",
    "add_obstacle!(scene, make_line(vertical, Point(0.60, 0.40), 0.40, wall_thickness))\n",
    "add_obstacle!(scene, make_line(horizontal, Point(0.60 - 0.15, 0.80), 0.15 + wall_thickness, wall_thickness))\n",
    "add_obstacle!(scene, make_line(horizontal, Point(0.20, 0.80), 0.15, wall_thickness))\n",
    "add_obstacle!(scene, make_line(vertical, Point(0.20, 0.40), 0.40, wall_thickness));\n",
    "\n",
    "start = Point(0.1, 0.1)\n",
    "dt = 0.1\n",
    "num_ticks = 10\n",
    "planner_params = PlannerParams(rrt_iters=600, rrt_dt=0.05,\n",
    "                               refine_iters=3500, refine_std=1.);\n",
    "\n",
    "@gen function agent_model(\n",
    "        scene::Scene, dt::Float64, num_ticks::Int, \n",
    "        planner_params::PlannerParams)\n",
    "\n",
    "    # sample the start point of the agent from the prior\n",
    "    start_x ~ uniform(0, 1)\n",
    "    start_y ~ uniform(0, 1)\n",
    "    start = Point(start_x, start_y)\n",
    "\n",
    "    # sample the destination point of the agent from the prior\n",
    "    dest_x ~ uniform(0, 1)\n",
    "    dest_y ~ uniform(0, 1)\n",
    "    dest = Point(dest_x, dest_y)\n",
    "\n",
    "    # plan a path that avoids obstacles in the scene\n",
    "    maybe_path = plan_path(start, dest, scene, planner_params)\n",
    "    planning_failed = maybe_path === nothing\n",
    "    \n",
    "    # sample the speed from the prior\n",
    "    speed ~ uniform(0.3, 1)\n",
    "\n",
    "    if planning_failed   \n",
    "        # path planning failed; assume agent stays at start location indefinitely\n",
    "        locations = fill(start, num_ticks)\n",
    "    else   \n",
    "        # path planning succeeded; move along the path at constant speed\n",
    "        locations = walk_path(maybe_path, speed, dt, num_ticks)\n",
    "    end\n",
    "\n",
    "    # generate noisy measurements of the agent's location at each time point\n",
    "    noise = 0.01\n",
    "    for (i, point) in enumerate(locations)\n",
    "        x = {:meas => (i, :x)} ~ normal(point.x, noise)\n",
    "        y = {:meas => (i, :y)} ~ normal(point.y, noise)\n",
    "    end\n",
    "\n",
    "    return (planning_failed, maybe_path)\n",
    "end;\n",
    "\n",
    "measurements = [\n",
    "    Point(0.0980245, 0.104775),\n",
    "    Point(0.113734, 0.150773),\n",
    "    Point(0.100412, 0.195499),\n",
    "    Point(0.114794, 0.237386),\n",
    "    Point(0.0957668, 0.277711),\n",
    "    Point(0.140181, 0.31304),\n",
    "    Point(0.124384, 0.356242),\n",
    "    Point(0.122272, 0.414463),\n",
    "    Point(0.124597, 0.462056),\n",
    "    Point(0.126227, 0.498338)];"
   ]
  },
  {
   "cell_type": "markdown",
   "id": "76d9ed86",
   "metadata": {},
   "source": [
    "PyCall allows us to import Python libraries directly into our Julia code:"
   ]
  },
  {
   "cell_type": "code",
   "execution_count": 3,
   "id": "51900d4b",
   "metadata": {},
   "outputs": [
    {
     "data": {
      "text/plain": [
       "PyObject <module 'torch.nn.functional' from '/Users/alexlew/gen-quickstart/tutorials/pytorch/venv/lib/python3.9/site-packages/torch/nn/functional.py'>"
      ]
     },
     "execution_count": 3,
     "metadata": {},
     "output_type": "execute_result"
    }
   ],
   "source": [
    "torch = pyimport(\"torch\")\n",
    "nn = torch.nn\n",
    "F = nn.functional"
   ]
  },
  {
   "cell_type": "markdown",
   "id": "7bf35266",
   "metadata": {},
   "source": [
    "It also provides the `@pydef` macro, which we can use to define Python classes using Julia code.\n",
    "In PyTorch, new neural network architectures are defined as subclasses\n",
    "of the `nn.Module` class. We create our own neural network class here, \n",
    "called `NeuralProposal`. \n",
    "\n",
    "Every module needs to define two methods: `__init__` and `forward`.\n",
    "\n",
    "In `__init__`, we create any layers we will use later. The expression \n",
    "`nn.Linear(input_dim, output_dim)` creates a fully-connected layer mapping\n",
    "a given number of input dimensions to a given number of output dimensions.\n",
    "Here, we construct three such layers: `fc1` maps our four inputs to 50 hidden\n",
    "units, `fc2` transforms the 50 hidden units, and `fc3` maps the 50 hidden\n",
    "units to 5 output neurons, which will later be normalized into the 5\n",
    "bin probabilities for `dest_x` or `dest_y`. (PyTorch also comes with helpers\n",
    "for constructing more complex layers, including convolutional layers and RNN\n",
    "cells, but we do not cover that here.)\n",
    "\n",
    "The `forward` function actually implements the neural network's computation,\n",
    "making use of any layers created in `__init__`. Here, we use `ReLU` activation\n",
    "functions, instead of the `tanh`-based activation used in the previous section."
   ]
  },
  {
   "cell_type": "code",
   "execution_count": 34,
   "id": "f25474ff",
   "metadata": {},
   "outputs": [
    {
     "data": {
      "text/plain": [
       "PyObject <class 'NeuralProposal'>"
      ]
     },
     "execution_count": 34,
     "metadata": {},
     "output_type": "execute_result"
    }
   ],
   "source": [
    "@pydef mutable struct NeuralProposal <: nn.Module\n",
    "    function __init__(self, num_in)\n",
    "        # Note the use of pybuiltin(:super): built in Python functions\n",
    "        # like `super` or `str` or `slice` are all accessed using\n",
    "        # `pybuiltin`.\n",
    "        pybuiltin(:super)(NeuralProposal, self).__init__()\n",
    "        self.fc1 = nn.Linear(num_in, 50)\n",
    "        self.fc2 = nn.Linear(50, 50)\n",
    "        self.fc3 = nn.Linear(50, 5)\n",
    "    end\n",
    "\n",
    "    function forward(self, x)\n",
    "        x = F.relu(self.fc1(x))\n",
    "        x = F.relu(self.fc2(x))\n",
    "        x = self.fc3(x)\n",
    "        return x\n",
    "    end\n",
    "end"
   ]
  },
  {
   "cell_type": "markdown",
   "id": "af00d364",
   "metadata": {},
   "source": [
    "Once we've defined a `nn.Module`, we can create a generative function out of it\n",
    "using the `TorchGenerativeFunction` constructor. The first argument is an\n",
    "instantiated Torch model, in our case, `NeuralProposal(4)`. Here, `4` is the\n",
    "value we are passing into `NeuralProposal`'s `__init__` method, which expects\n",
    "us to provide `num_in`, the number of input units. The second argument to\n",
    "`TorchGenerativeFunction` is a list of `TorchArg` objects, describing the \n",
    "arguments to the `forward` function. We have only one argument, `x`, so we pass\n",
    "in a list of one element. A `TorchArg` object specifies the argument's `dtype` \n",
    "(`torch.float` in this case, for 32-bit floating-point numbers), and a Boolean\n",
    "for whether gradients should flow through this argument (almost always `true`, unless\n",
    "the argument is some discrete value, e.g., a Boolean flag). Finally, we pass in\n",
    "the number of output tensors to expect from calling `forward` -- in this case, just one."
   ]
  },
  {
   "cell_type": "code",
   "execution_count": 35,
   "id": "58930b3b",
   "metadata": {},
   "outputs": [],
   "source": [
    "x_nn = TorchGenerativeFunction(NeuralProposal(4), [TorchArg(true, torch.float)], 1);"
   ]
  },
  {
   "cell_type": "markdown",
   "id": "6d9c5d98",
   "metadata": {},
   "source": [
    "`x_nn` can now be called on inputs:"
   ]
  },
  {
   "cell_type": "code",
   "execution_count": 36,
   "id": "a03d54a7",
   "metadata": {},
   "outputs": [
    {
     "data": {
      "text/plain": [
       "5-element Vector{Float64}:\n",
       " -0.07767701894044876\n",
       "  0.006771232932806015\n",
       " -0.06922771036624908\n",
       " -0.11070195585489273\n",
       "  0.028574829921126366"
      ]
     },
     "execution_count": 36,
     "metadata": {},
     "output_type": "execute_result"
    }
   ],
   "source": [
    "x_nn([0.0, 0.0, 0.0, 0.0])"
   ]
  },
  {
   "cell_type": "markdown",
   "id": "8d329388",
   "metadata": {},
   "source": [
    "To turn these into bin probabilities, we'll use `softmax`:"
   ]
  },
  {
   "cell_type": "code",
   "execution_count": 37,
   "id": "65f59a41",
   "metadata": {},
   "outputs": [
    {
     "data": {
      "text/plain": [
       "5-element Vector{Float64}:\n",
       " 0.19319124522982853\n",
       " 0.21021458830983716\n",
       " 0.19483049317822299\n",
       " 0.18691531798546976\n",
       " 0.2148483552966415"
      ]
     },
     "execution_count": 37,
     "metadata": {},
     "output_type": "execute_result"
    }
   ],
   "source": [
    "softmax(logits) = exp.(logits .- logsumexp(logits))\n",
    "\n",
    "softmax(x_nn([0.0, 0.0, 0.0, 0.0]))"
   ]
  },
  {
   "cell_type": "markdown",
   "id": "efcbf00f",
   "metadata": {},
   "source": [
    "Our proposal in this section will actually use _two_ neural networks: after \n",
    "generating a `dest_x` using the probabilities from `x_nn`, it will generate\n",
    "a `dest_y` from a second network, `y_nn`. But `y_nn` will take an additional\n",
    "argument: the sampled `dest_x` value. This way, in theory, the `y` neural network\n",
    "can propose different `dest_y` values depending on the sampled `x`.\n",
    "\n",
    "To this end, we create a `y_nn` that accepts 5 inputs, rather than 4. Note that\n",
    "every time we call `NeuralProposal(...)`, it is calling `__init__` to generate a\n",
    "fresh set of layers and their parameters; so the parameters are not shared between\n",
    "`x_nn` and `y_nn`."
   ]
  },
  {
   "cell_type": "code",
   "execution_count": 38,
   "id": "36e91f17",
   "metadata": {},
   "outputs": [],
   "source": [
    "y_nn = TorchGenerativeFunction(NeuralProposal(5), [TorchArg(true, torch.float)], 1);"
   ]
  },
  {
   "cell_type": "markdown",
   "id": "f40a8df0",
   "metadata": {},
   "source": [
    "We are now ready to write our custom proposal, which calls each neural \n",
    "network to generate probabilities, then samples using `piecewise_uniform`.\n",
    "Note that because the neural networks are generative functions, we call them\n",
    "using `~` --- even though they make no random choices. This is important for\n",
    "Gen's gradient-based optimization features to work properly."
   ]
  },
  {
   "cell_type": "code",
   "execution_count": 49,
   "id": "a890f842",
   "metadata": {},
   "outputs": [],
   "source": [
    "scale_coord(coord, min, max) = (coord / (max - min)) - 0.5\n",
    "num_x_bins = 5\n",
    "num_y_bins = 5;\n",
    "\n",
    "@gen function custom_dest_proposal_torch(measurements::Vector{Point}, scene::Scene)\n",
    "    # scale inputs to be in the range [-0.5, 0.5]\n",
    "    x_first = scale_coord(measurements[1].x, scene.xmin, scene.xmax)\n",
    "    x_last = scale_coord(measurements[end].x, scene.xmin, scene.xmax)\n",
    "    y_first = scale_coord(measurements[1].y, scene.ymin, scene.ymax)\n",
    "    y_last = scale_coord(measurements[end].y, scene.ymin, scene.ymax)\n",
    "    \n",
    "    # sample dest_x\n",
    "    x_bounds = collect(range(scene.xmin, stop=scene.xmax, length=num_x_bins+1))\n",
    "    x_probs ~ x_nn([x_first, y_first, x_last, y_last])\n",
    "    dest_x ~ piecewise_uniform(x_bounds, softmax(x_probs))\n",
    "    \n",
    "    # sample dest_y\n",
    "    y_bounds = collect(range(scene.ymin, stop=scene.ymax, length=num_y_bins+1))\n",
    "    y_probs ~ y_nn([x_first, y_first, x_last, y_last, dest_x])\n",
    "    \n",
    "    dest_y ~ piecewise_uniform(y_bounds, softmax(y_probs))\n",
    "    \n",
    "    return nothing\n",
    "end;"
   ]
  },
  {
   "cell_type": "markdown",
   "id": "108801c6",
   "metadata": {},
   "source": [
    "To train the proposal, we construct an update that applies a fixed step size gradient descent move. We indicate that we want the update to apply to all the trainable parameters of `x_nn` and all the trainable parameters of `y_nn`. Note that `custom_dest_proposal_torch` does not have any trainable parameters of its own, unlike `custom_dest_proposal_neural`."
   ]
  },
  {
   "cell_type": "code",
   "execution_count": 50,
   "id": "97168fa6",
   "metadata": {},
   "outputs": [],
   "source": [
    "update = Gen.ParamUpdate(Gen.ADAM(0.001, 0.9, 0.999, 1e-8), \n",
    "    x_nn => collect(get_params(x_nn)), y_nn => collect(get_params(y_nn)));"
   ]
  },
  {
   "cell_type": "markdown",
   "id": "494f15c9",
   "metadata": {},
   "source": [
    "And run the training procedure. Here, we've used the more effective ADAM\n",
    "optimizer, so we can get by with less training. (But more training\n",
    "may still help, and you may decide to run it for more epochs or larger epochs!\n",
    "If you have a GPU available, GenPyTorch should automatically use it.)"
   ]
  },
  {
   "cell_type": "code",
   "execution_count": 51,
   "id": "fac4f6fe",
   "metadata": {},
   "outputs": [],
   "source": [
    "function data_generator()\n",
    "    \n",
    "    # since these names are used in the global scope, explicitly declare it\n",
    "    # local to avoid overwriting the global variable\n",
    "    local measurements\n",
    "    local choices\n",
    "    \n",
    "    # obtain an execution of the model where planning succeeded\n",
    "    done = false\n",
    "    while !done\n",
    "        (choices, _, retval) = Gen.propose(agent_model, (scene, dt, num_ticks, planner_params))\n",
    "        (planning_failed, maybe_path) = retval       \n",
    "        done = !planning_failed\n",
    "    end\n",
    "\n",
    "    # construct arguments to the proposal function being trained\n",
    "    measurements = [Point(choices[:meas => (i, :x)], choices[:meas => (i, :y)]) for i=1:num_ticks]\n",
    "    inputs = (measurements, scene)\n",
    "    \n",
    "    # construct constraints for the proposal function being trained\n",
    "    constraints = Gen.choicemap()\n",
    "    constraints[:dest_x] = choices[:dest_x]\n",
    "    constraints[:dest_y] = choices[:dest_y]\n",
    "    \n",
    "    return (inputs, constraints)\n",
    "end;"
   ]
  },
  {
   "cell_type": "code",
   "execution_count": 52,
   "id": "f1d1faa8",
   "metadata": {
    "scrolled": true
   },
   "outputs": [
    {
     "name": "stdout",
     "output_type": "stream",
     "text": [
      "epoch 1: generating 100 training examples...\n",
      "epoch 1: training using 100 minibatches of size 100...\n",
      "epoch 1: evaluating on 10 examples...\n",
      "epoch 1: est. objective value: 0.30674785750200567\n",
      "epoch 2: generating 100 training examples...\n",
      "epoch 2: training using 100 minibatches of size 100...\n",
      "epoch 2: evaluating on 10 examples...\n",
      "epoch 2: est. objective value: 0.057911306335681687\n",
      "epoch 3: generating 100 training examples...\n",
      "epoch 3: training using 100 minibatches of size 100...\n",
      "epoch 3: evaluating on 10 examples...\n",
      "epoch 3: est. objective value: 1.195958290383073\n",
      "epoch 4: generating 100 training examples...\n",
      "epoch 4: training using 100 minibatches of size 100...\n",
      "epoch 4: evaluating on 10 examples...\n",
      "epoch 4: est. objective value: 0.36682692005589856\n",
      "epoch 5: generating 100 training examples...\n",
      "epoch 5: training using 100 minibatches of size 100...\n",
      "epoch 5: evaluating on 10 examples...\n",
      "epoch 5: est. objective value: 0.8955448017601333\n",
      "epoch 6: generating 100 training examples...\n",
      "epoch 6: training using 100 minibatches of size 100...\n",
      "epoch 6: evaluating on 10 examples...\n",
      "epoch 6: est. objective value: 1.0538069887694372\n",
      "epoch 7: generating 100 training examples...\n",
      "epoch 7: training using 100 minibatches of size 100...\n",
      "epoch 7: evaluating on 10 examples...\n",
      "epoch 7: est. objective value: 0.9263616359863105\n",
      "epoch 8: generating 100 training examples...\n",
      "epoch 8: training using 100 minibatches of size 100...\n",
      "epoch 8: evaluating on 10 examples...\n",
      "epoch 8: est. objective value: 1.1320598453574786\n",
      "epoch 9: generating 100 training examples...\n",
      "epoch 9: training using 100 minibatches of size 100...\n",
      "epoch 9: evaluating on 10 examples...\n",
      "epoch 9: est. objective value: 0.3309016351778859\n",
      "epoch 10: generating 100 training examples...\n",
      "epoch 10: training using 100 minibatches of size 100...\n",
      "epoch 10: evaluating on 10 examples...\n",
      "epoch 10: est. objective value: 0.6199856166120441\n"
     ]
    }
   ],
   "source": [
    "Gen.train!(custom_dest_proposal_torch, data_generator, update,\n",
    "    num_epoch=10, epoch_size=100, num_minibatch=100, minibatch_size=100,\n",
    "    evaluation_size=10, verbose=true);"
   ]
  },
  {
   "cell_type": "markdown",
   "id": "1529077d",
   "metadata": {},
   "source": [
    "We can visualize the proposal and see that although it's not perfect, it correctly\n",
    "focuses on the upper left regions of the scene. "
   ]
  },
  {
   "cell_type": "code",
   "execution_count": 55,
   "id": "c09a87f7",
   "metadata": {},
   "outputs": [
    {
     "data": {
      "image/png": "[encoded data removed]",
      "text/plain": []
     },
     "execution_count": 55,
     "metadata": {},
     "output_type": "execute_result"
    }
   ],
   "source": [
    "function visualize_custom_destination_proposal(measurements, start, dest_proposal; num_samples=100)\n",
    "    visualize() do \n",
    "        for i=1:num_samples\n",
    "            (proposed_choices, _) = Gen.propose(dest_proposal, (measurements, scene))\n",
    "            constraints = choicemap(proposed_choices)\n",
    "            constraints[:start_x] = start.x\n",
    "            constraints[:start_y] = start.y\n",
    "            (trace, _) = Gen.generate(agent_model, (scene, dt, num_ticks, planner_params), constraints)\n",
    "            draw_dest(scene, Point(trace[:dest_x], trace[:dest_y]))\n",
    "        end\n",
    "        draw_scene(scene)\n",
    "        draw_start(scene, start)\n",
    "        draw_measurements(scene, measurements)\n",
    "    end\n",
    "end;\n",
    "visualize_custom_destination_proposal(measurements, start, custom_dest_proposal_torch, num_samples=1000)"
   ]
  },
  {
   "cell_type": "markdown",
   "id": "7f8bd628",
   "metadata": {},
   "source": [
    "### Exercise"
   ]
  },
  {
   "cell_type": "markdown",
   "id": "dfc5c5bf",
   "metadata": {},
   "source": [
    "Give brief answers for the following questions:\n",
    "\n",
    "1. Do you expect that the neural proposal trained above would work all right for _observed agent locations_ different from the ones we've been working with in this notebook? Why or why not?\n",
    "2. Do you expect that the neural proposal trained above would work all right for _scenes_ different from the one we've been working with in this notebook? Why or why not? (For example, would it do well in the `scene_2doors` scene from Problem 2.4? If so, can you imagine other scenes where it would fail?)\n",
    "3. If you answered \"no\" to either of the above questions, can you describe (but not implement!) a modification to the neural network architecture, the training procedure, or both that would allow you to answer \"yes\"?"
   ]
  },
  {
   "cell_type": "markdown",
   "id": "d7d908cc",
   "metadata": {},
   "source": [
    "--------\n",
    "### Exercise\n",
    "\n",
    "The training procedure for the neural networks above was not vectorized across training examples. For fast training on a GPU it is important to vectorize the evaluation of gradients across multiple training examples. Write a vectorized version of the `custom_dest_proposal_torch` that takes a scene and a vector of data sets (measurement vectors), and samples a destination point for each of the input data sets. Train it and visualize the proposal distribution, and the results of importance resampling inference that using the proposal for some amount of computation, for our example data set.\n",
    "\n",
    "Hint:\n",
    "\n",
    "- Construct a vectorized version of each of the neural networks that operate\n",
    "  on an extra 'training example' dimension.\n",
    "\n",
    "- Construct a vectorized version of the proposal. It should accept a vector\n",
    "  of measurement vectors as one of its arguments. This vectorized propsal\n",
    "  should make 2N random choices where N is the batch size.\n",
    "\n",
    "- Construct a vectorized version of the data generator. It should generate\n",
    "  constraints for all random choices of the vectorized proposal.\n",
    "\n",
    "- Construct a non-vectorized version of the proposal that invokes the\n",
    "  vectorized neural networks on a single data set."
   ]
  },
  {
   "cell_type": "code",
   "execution_count": null,
   "id": "38f55681-9016-44ff-ae46-6df87cf7f498",
   "metadata": {},
   "outputs": [],
   "source": []
  }
 ],
 "metadata": {
  "jupytext": {
   "formats": "jl:light,ipynb"
  },
  "kernelspec": {
   "display_name": "Julia 1.9.3",
   "language": "julia",
   "name": "julia-1.9"
  },
  "language_info": {
   "file_extension": ".jl",
   "mimetype": "application/julia",
   "name": "julia",
   "version": "1.7.1"
  }
 },
 "nbformat": 4,
 "nbformat_minor": 5
}
