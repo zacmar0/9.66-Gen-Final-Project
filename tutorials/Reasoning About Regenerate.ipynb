{
 "cells": [
  {
   "cell_type": "markdown",
   "metadata": {},
   "source": [
    "# Reasoning About Regenerate\n",
    "\n",
    "Gen provides a primitive called [`regenerate`](https://probcomp.github.io/Gen/dev/ref/gfi/#Regenerate-1) that allows users to ask for certain random choices in a trace to be re-generated from scratch. `regenerate` is the basis of one variant of the [`metropolis_hastings`](https://probcomp.github.io/Gen/dev/ref/inference/#Gen.metropolis_hastings) operator in Gen's inference library.\n",
    "\n",
    "This notebook aims to help you understand the computation that `regenerate` is performing."
   ]
  },
  {
   "cell_type": "code",
   "execution_count": 1,
   "metadata": {},
   "outputs": [],
   "source": [
    "using Gen: bernoulli, @gen"
   ]
  },
  {
   "cell_type": "markdown",
   "metadata": {},
   "source": [
    "Let's start by defining a simple generative function:"
   ]
  },
  {
   "cell_type": "code",
   "execution_count": 2,
   "metadata": {},
   "outputs": [],
   "source": [
    "@gen function foo(prob_a)\n",
    "    val = true\n",
    "    if ({:a} ~ bernoulli(prob_a))\n",
    "        val = ({:b} ~ bernoulli(0.6)) && val\n",
    "    end\n",
    "    prob_c = val ? 0.9 : 0.2\n",
    "    val = ({:c} ~ bernoulli(prob_c)) && val\n",
    "    return val\n",
    "end;"
   ]
  },
  {
   "cell_type": "markdown",
   "metadata": {},
   "source": [
    "Recall the distribution on choice maps for this generative function:"
   ]
  },
  {
   "cell_type": "markdown",
   "metadata": {},
   "source": [
    "$$\n",
    "\\begin{array}{l|l|l}\n",
    "\\mbox{Random choice map } t & \\mbox{Probability } p(t; x) & \\mbox{Return value } f(x, t) \\\\\n",
    "\\hline\n",
    "\\{a \\mapsto \\mbox{true}, b \\mapsto \\mbox{true}, c \\mapsto \\mbox{true}\\} & \\mbox{prob_a} \\cdot 0.6\\cdot 0.9 & \\mbox{true}\\\\\n",
    "\\{a \\mapsto \\mbox{true}, b \\mapsto \\mbox{true}, c \\mapsto \\mbox{false}\\} & \\mbox{prob_a} \\cdot 0.6 \\cdot 0.1 & \\mbox{false}\\\\\n",
    "\\{a \\mapsto \\mbox{true}, b \\mapsto \\mbox{false}, c \\mapsto \\mbox{true}\\} & \\mbox{prob_a} \\cdot 0.4 \\cdot 0.2 & \\mbox{false}\\\\\n",
    "\\{a \\mapsto \\mbox{true}, b \\mapsto \\mbox{false}, c \\mapsto \\mbox{false}\\} & \\mbox{prob_a} \\cdot 0.4 \\cdot 0.8 & \\mbox{false}\\\\\n",
    "\\{a \\mapsto \\mbox{false}, c \\mapsto \\mbox{true}\\} & (1-\\mbox{prob_a}) \\cdot 0.9 & \\mbox{true}\\\\\n",
    "\\{a \\mapsto \\mbox{false}, c \\mapsto \\mbox{false}\\} & (1-\\mbox{prob_a}) \\cdot 0.1 & \\mbox{false}\n",
    "\\end{array}\n",
    "$$"
   ]
  },
  {
   "cell_type": "markdown",
   "metadata": {},
   "source": [
    "Let's first obtain an initial trace with $\\{a \\mapsto \\mbox{true}, b \\mapsto \\mbox{false}, c \\mapsto \\mbox{true}\\}$, using `generate`:"
   ]
  },
  {
   "cell_type": "code",
   "execution_count": 3,
   "metadata": {},
   "outputs": [],
   "source": [
    "using Gen: generate, choicemap\n",
    "\n",
    "trace, weight = generate(foo, (0.3,), choicemap((:a, true), (:b, false), (:c, true)));"
   ]
  },
  {
   "cell_type": "markdown",
   "metadata": {},
   "source": [
    "Now, we ask for the value at address `:a` to be re-generated:"
   ]
  },
  {
   "cell_type": "code",
   "execution_count": 4,
   "metadata": {},
   "outputs": [],
   "source": [
    "using Gen: regenerate, select, NoChange\n",
    "(trace, weight, retdiff) = regenerate(trace, (0.3,), (NoChange(),), select(:a));"
   ]
  },
  {
   "cell_type": "markdown",
   "metadata": {},
   "source": [
    "Note that unlike [`update`](https://probcomp.github.io/Gen/dev/ref/gfi/#Gen.update), we do not provide the new values for the random choices that we want to change. Instead, we simply pass in a [selection](https://probcomp.github.io/Gen/dev/ref/selections/#Selections-1) indicating the addresses that we want to propose new values for.\n",
    "\n",
    "Note that `select(:a)` is equivalent to:\n",
    "```julia\n",
    "selection = DynamicAddressSet()\n",
    "push!(selection, :a)\n",
    "```"
   ]
  },
  {
   "cell_type": "markdown",
   "metadata": {},
   "source": [
    "We print the choices in the new trace:"
   ]
  },
  {
   "cell_type": "code",
   "execution_count": 5,
   "metadata": {},
   "outputs": [
    {
     "data": {
      "text/plain": [
       "│\n",
       "├── :a : false\n",
       "│\n",
       "└── :c : true\n"
      ]
     },
     "execution_count": 5,
     "metadata": {},
     "output_type": "execute_result"
    }
   ],
   "source": [
    "using Gen: get_choices\n",
    "\n",
    "get_choices(trace)"
   ]
  },
  {
   "cell_type": "markdown",
   "metadata": {},
   "source": [
    "Re-run the regenerate command until you get a trace where `a` is `false`. Note that the address `b` doesn't appear in the resulting trace. Then, run the command again until you get a trace where `a` is `true`. Note that now there is a value for `b`. This value of `b` was sampled along with the new value for `a`---`regenerate` will regenerate new values for the selected adddresses, but also any new addresses that may be introduced as a consequence of stochastic control flow."
   ]
  },
  {
   "cell_type": "markdown",
   "metadata": {},
   "source": [
    "What distribution is `regenerate` sampling the selected values from? It turns out that `regenerate` is using the [*internal proposal distribution family*](https://probcomp.github.io/Gen/dev/ref/gfi/#.-Internal-proposal-distribution-family-1) $q(t; x, u)$, just like like `generate`. Recall that for `@gen` functions, the internal proposal distribution is based on *ancestral sampling*.  But whereas `generate` was given the expicit choice map of constraints ($u$) as an argument, `regenerate` constructs $u$ by starting with the previous trace $t$ and then removing any selected addresses. In other words, `regenerate` is like `generate`, but where the constraints are the choices made in the previous trace less the selected choices.\n",
    "\n",
    "We can make this concrete. Let us start with a deterministic trace again:"
   ]
  },
  {
   "cell_type": "code",
   "execution_count": 6,
   "metadata": {},
   "outputs": [],
   "source": [
    "trace, weight = generate(foo, (0.3,), choicemap((:a, true), (:b, false), (:c, true)));"
   ]
  },
  {
   "cell_type": "markdown",
   "metadata": {},
   "source": [
    "### Understanding how regenerate constructs the internal proposal distribution family\n",
    "\n",
    "We will run `regenerate` with a selection of just `:a`. Let's analyze the internal proposal distribution in this case:\n",
    "\n",
    "```julia\n",
    "    (trace, weight, retdiff) = regenerate(trace, (0.3,), noargdiff, select(:a));\n",
    "```\n",
    "\n",
    "Since the current trace is $t = \\{a \\mapsto \\mbox{true}, b \\mapsto \\mbox{false}, c \\mapsto \\mbox{true}\\}$, the constraints $u$ that will be passed to the internal proposal are $u = \\{b \\mapsto \\mbox{false}, c \\mapsto \\mbox{true}\\}$ (everything in $t$ but with the mapping for any selected addresses removed).\n",
    "\n",
    "To compute the internal proposal distribution, we first write down the list of all choice maps $t'$ where $p(t'; x) > 0$, with the probability $p(t'; x)$ listed.\n",
    "\n",
    "$$\n",
    "\\begin{array}{l|l}\n",
    "\\mbox{Random choice map } t' & \\mbox{Probability } p(t'; x)\\\\\n",
    "\\hline\n",
    "\\{a \\mapsto \\mbox{true}, b \\mapsto \\mbox{true}, c \\mapsto \\mbox{true}\\} & 0.3 \\cdot 0.6\\cdot 0.9\\\\\n",
    "\\{a \\mapsto \\mbox{true}, b \\mapsto \\mbox{true}, c \\mapsto \\mbox{false}\\} & 0.3 \\cdot 0.6 \\cdot 0.1\\\\\n",
    "\\{a \\mapsto \\mbox{true}, b \\mapsto \\mbox{false}, c \\mapsto \\mbox{true}\\} & 0.3 \\cdot 0.4 \\cdot 0.2\\\\\n",
    "\\{a \\mapsto \\mbox{true}, b \\mapsto \\mbox{false}, c \\mapsto \\mbox{false}\\} & 0.3 \\cdot 0.4 \\cdot 0.8\\\\\n",
    "\\{a \\mapsto \\mbox{false}, c \\mapsto \\mbox{true}\\} & 0.7 \\cdot 0.9\\\\\n",
    "\\{a \\mapsto \\mbox{false}, c \\mapsto \\mbox{false}\\} & 0.7 \\cdot 0.1\n",
    "\\end{array}\n",
    "$$\n",
    "\n",
    "Then, we eliminate any choice maps $t'$ such that $t'(i) \\ne u(i)$ for some address $i$ that is contained in both maps $u$ and $t'$.\n",
    "\n",
    "In particular:\n",
    "\n",
    "- we eliminate $t' = \\{a \\mapsto \\mbox{true}, b \\mapsto \\mbox{true}, c \\mapsto \\mbox{true}\\}$ because $t'(b) = \\mbox{true} \\ne u(b) = \\mbox{false}$.\n",
    "\n",
    "- we eliminate $t' = \\{a \\mapsto \\mbox{true}, b \\mapsto \\mbox{true}, c \\mapsto \\mbox{false}\\}$ because $t'(c) = \\mbox{false} \\ne u(c) = \\mbox{true}$.\n",
    "\n",
    "- we eliminate $t' = \\{a \\mapsto \\mbox{true}, b \\mapsto \\mbox{false}, c \\mapsto \\mbox{false}\\}$ because $t'(c) = \\mbox{false} \\ne u(c) = \\mbox{true}$.\n",
    "\n",
    "- we eliminate $t' = \\{a \\mapsto \\mbox{false}, c \\mapsto \\mbox{false}\\}$ because $t'(c) = \\mbox{false} \\ne u(c) = \\mbox{true}$.\n",
    "\n",
    "For the remaining choice maps $t'$ we require that $q(t'; x, u) > 0$. The remaining two choice maps are:\n",
    "\n",
    "$$\n",
    "\\begin{array}{l}\n",
    "t' = \\{a \\mapsto \\mbox{true}, b \\mapsto \\mbox{false}, c \\mapsto \\mbox{true}\\}\\\\\n",
    "t' = \\{a \\mapsto \\mbox{false}, c \\mapsto \\mbox{true}\\}\n",
    "\\end{array}\n",
    "$$\n",
    "\n",
    "The ancestral sampling algorithm has two possible results, depending on whether the new value for `a` was `true` or `false`. It will sample `a = true` with probability 0.3 and `a = false` with probability 0.7. If `a` is sampled to be `true`, then the existing value of `b = false` will always be kept. In both cases, the previous value of `c = true` is kept. Therefore, the internal proposal distribution is:\n",
    "\n",
    "$$\n",
    "\\begin{array}{l|l}\n",
    "\\mbox{Random choice map } t' & q(t'; x, u)\\\\\n",
    "\\hline\n",
    "\\{a \\mapsto \\mbox{true}, b \\mapsto \\mbox{false}, c \\mapsto \\mbox{true}\\} & 0.3\\\\\n",
    "\\{a \\mapsto \\mbox{false}, c \\mapsto \\mbox{true}\\} & 0.7\n",
    "\\end{array}\n",
    "$$\n",
    "\n",
    "### Reversibility of regenerate\n",
    "\n",
    "Regenerate has the useful property, that for selected addresses $I$ (e.g. $I = \\{a\\}$) and initial choice map $t$ where $p(t; x) > 0$, if regenerate has nonzero probability of producing a new choice map $t'$ from $t$ and $I$, then regenerate also has a nonzero probability of producing choice map $t$ from $t'$ and the same set of selected addresses $I$.\n",
    "\n",
    "*Challenge: convince yourself, or prove, that this is the case.*\n",
    "\n",
    "### Understanding the weight returned by regenerate\n",
    "\n",
    "The weight returned by `regenerate`, for selected addresses $I$ is:\n",
    "\n",
    "$$\\log \\frac{p(t'; x')q(t; u', x)}{p(t; x) q(t'; u, x')}$$\n",
    "\n",
    "where $u$ is the restriction of $t$ to the complement of $I$, and where $u'$ is the restriction of $t'$ to the complement of $I$.\n",
    "\n",
    "We will now manually compute what the weights should be for the two possible transitions from $t = \\{a \\mapsto \\mbox{true}, b \\mapsto \\mbox{false}, c \\mapsto \\mbox{true}\\}$, with $I = \\{a\\}$.\n",
    "\n",
    "\n",
    "First, consider $t' = \\{a \\mapsto \\mbox{true}, b \\mapsto \\mbox{false}, c \\mapsto \\mbox{true}\\}$. In this case, $u' = \\{b \\mapsto \\mbox{false}, c \\mapsto \\mbox{true}\\}$. The internal proposal distribution in this case is:\n",
    "\n",
    "$$\n",
    "\\begin{array}{l|l}\n",
    "\\mbox{Random choice map }t & q(t; x, u')\\\\\n",
    "\\hline\n",
    "\\{a \\mapsto \\mbox{true}, b \\mapsto \\mbox{false}, c \\mapsto \\mbox{true}\\} & 0.3\\\\\n",
    "\\{a \\mapsto \\mbox{false}, c \\mapsto \\mbox{true}\\} & 0.7\n",
    "\\end{array}\n",
    "$$\n",
    "\n",
    "Therefore, the weight for the transition from $t = \\{a \\mapsto \\mbox{true}, b \\mapsto \\mbox{false}, c \\mapsto \\mbox{true}\\}$ to $t' = \\{a \\mapsto \\mbox{true}, b \\mapsto \\mbox{false}, c \\mapsto \\mbox{true}\\}$ is:\n",
    "\n",
    "$$\n",
    "\\log \\frac{p(t'; x')q(t; u', x)}{p(t; x) q(t'; u, x')}\n",
    "= \\log \\frac{q(t; u', x)}{q(t'; u, x')}\n",
    "= \\log \\frac{0.3}{0.3} = 0\n",
    "$$\n",
    "\n",
    "Next, we consider $t' = \\{a \\mapsto \\mbox{false}, c \\mapsto \\mbox{true}\\}$. In this case $u' = \\{c \\mapsto \\mbox{true}\\}$. The internal proposal distribution in this case is:\n",
    "\n",
    "$$\n",
    "\\begin{array}{l|l}\n",
    "\\mbox{Random choice map } t & q(t; x, u')\\\\\n",
    "\\hline\n",
    "\\{a \\mapsto \\mbox{true}, b \\mapsto \\mbox{true}, c \\mapsto \\mbox{true}\\} & 0.3 \\cdot 0.6\\\\\n",
    "\\{a \\mapsto \\mbox{true}, b \\mapsto \\mbox{false}, c \\mapsto \\mbox{true}\\} & 0.3 \\cdot 0.4\\\\\n",
    "\\{a \\mapsto \\mbox{false}, c \\mapsto \\mbox{true}\\} & 0.7\\\\\n",
    "\\end{array}\n",
    "$$\n",
    "\n",
    "The weight for the transition from $t = \\{a \\mapsto \\mbox{true}, b \\mapsto \\mbox{false}, c \\mapsto \\mbox{true}\\}$ to $t' = \\{a \\mapsto \\mbox{false}, c \\mapsto \\mbox{true}\\}$ is:\n",
    "\n",
    "$$\n",
    "\\log \\frac{p(t'; x')q(t; u', x)}{p(t; x) q(t'; u, x')}\n",
    "= \\log \\frac{p(t'; x')}{p(t; x)} + \\log \\frac{q(t; u', x)}{q(t'; u, x')}\n",
    "= \\log \\frac{0.7 \\cdot 0.9}{0.3 \\cdot 0.4 \\cdot 0.2} + \\log \\frac{0.3 \\cdot 0.4}{0.7}\n",
    "$$"
   ]
  },
  {
   "cell_type": "code",
   "execution_count": 7,
   "metadata": {},
   "outputs": [
    {
     "data": {
      "text/plain": [
       "1.504077396776274"
      ]
     },
     "execution_count": 7,
     "metadata": {},
     "output_type": "execute_result"
    }
   ],
   "source": [
    "log((0.7 * 0.9)/(0.3 * 0.4 * 0.2)) + log((0.3 * 0.4)/(0.7))"
   ]
  },
  {
   "cell_type": "markdown",
   "metadata": {},
   "source": [
    "Now that we've done all this work, let's check it against Gen.\n",
    "\n",
    "Run the cell enough times to sample both of the transitions, and confirm that the weights match with our calculations:"
   ]
  },
  {
   "cell_type": "code",
   "execution_count": 9,
   "metadata": {},
   "outputs": [
    {
     "data": {
      "text/plain": [
       "│\n",
       "├── :a : false\n",
       "│\n",
       "└── :c : true\n"
      ]
     },
     "metadata": {},
     "output_type": "display_data"
    },
    {
     "name": "stdout",
     "output_type": "stream",
     "text": [
      "weight: 1.504077396776274\n"
     ]
    }
   ],
   "source": [
    "trace, weight = generate(foo, (0.3,), choicemap((:a, true), (:b, false), (:c, true)));\n",
    "(trace, weight, retdiff) = regenerate(trace, (0.3,), (NoChange(),), select(:a));\n",
    "display(get_choices(trace))\n",
    "println(\"weight: $weight\");"
   ]
  },
  {
   "cell_type": "markdown",
   "metadata": {},
   "source": [
    "Aren't we glad this is automated by Gen!"
   ]
  },
  {
   "cell_type": "markdown",
   "metadata": {},
   "source": [
    "### Approaching irreducibility\n",
    "\n",
    "Exercise: Draw a graph in which each random choice map $t$ where $p(t; x) > 0$ is a node, and where there are directed edges from $t$ to $t'$ if applying `regenerate` to $t$ with selection $\\{a\\}$ can produce trace $t'$. Do the same for selections $\\{b\\}$ and $\\{c\\}$. What about selection $\\{a,b,c\\}$?"
   ]
  }
 ],
 "metadata": {
  "jupytext": {
   "formats": "ipynb,jl:light"
  },
  "kernelspec": {
   "display_name": "Julia 1.7.1",
   "language": "julia",
   "name": "julia-1.7"
  },
  "language_info": {
   "file_extension": ".jl",
   "mimetype": "application/julia",
   "name": "julia",
   "version": "1.7.1"
  }
 },
 "nbformat": 4,
 "nbformat_minor": 2
}
