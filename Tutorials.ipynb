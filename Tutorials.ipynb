{
 "cells": [
  {
   "cell_type": "markdown",
   "metadata": {},
   "source": [
    "# Tutorials \n",
    "\n",
    "This is a collection of notebooks intended to help you get started with Gen.\n",
    "\n",
    "The notebooks discuss modeling and inference in Gen, and are designed to be used in the following order:\n",
    "\n",
    "1. [Introduction to Modeling in Gen](tutorials/Introduction%20to%20Modeling%20in%20Gen.ipynb)\n",
    "\n",
    "2. [Basics of Iterative Inference in Gen](tutorials/Iterative%20Inference%20in%20Gen.ipynb)\n",
    "\n",
    "3. [Basics of Data-Driven Proposals in Gen](tutorials/Data-Driven%20Proposals%20in%20Gen.ipynb), with an [addendum using PyTorch](tutorials/pytorch/Data-Driven%20Proposals%20with%20PyTorch.ipynb)\n",
    "\n",
    "4. [Scaling with Combinators and the Static Modeling Language](tutorials/Scaling%20with%20Combinators%20and%20the%20Static%20Modeling%20Language.ipynb)\n",
    "\n",
    "5. [Basics of Particle Filtering in Gen](tutorials/Particle%20Filtering%20in%20Gen.ipynb)\n",
    "\n",
    "6. [Learning Structure and Parameters with Involutive MCMC](tutorials/Reversible-Jump%20MCMC%20in%20Gen.ipynb)\n",
    "\n",
    "7. [Modeling with TensorFlow Code](tutorials/tensorflow/Modeling%20with%20TensorFlow%20Code.ipynb)\n",
    "\n",
    "To learn about some of the lower-level details of Gen, and more advanced material, see the following notebooks:\n",
    "\n",
    "1. [A Bottom-Up Introduction to Gen](tutorials/A%20Bottom-Up%20Introduction%20to%20Gen.ipynb)\n",
    "\n",
    "2. [Reasoning about Regenerate](tutorials/Reasoning%20About%20Regenerate.ipynb)"
   ]
  }
 ],
 "metadata": {
  "kernelspec": {
   "display_name": "Julia 1.9.3",
   "language": "julia",
   "name": "julia-1.9"
  },
  "language_info": {
   "file_extension": ".jl",
   "mimetype": "application/julia",
   "name": "julia",
   "version": "1.7.1"
  }
 },
 "nbformat": 4,
 "nbformat_minor": 2
}
